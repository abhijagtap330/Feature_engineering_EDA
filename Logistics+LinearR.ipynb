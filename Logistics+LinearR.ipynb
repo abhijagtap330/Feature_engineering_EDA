{
 "cells": [
  {
   "cell_type": "code",
   "execution_count": 110,
   "id": "8ab6ae2c",
   "metadata": {},
   "outputs": [],
   "source": [
    "import seaborn as sns\n",
    "import numpy as np\n",
    "import matplotlib.pyplot as plt\n",
    "import pandas as pd\n",
    "import warnings\n",
    "\n",
    "warnings.filterwarnings('ignore')"
   ]
  },
  {
   "cell_type": "code",
   "execution_count": 3,
   "id": "22bd042c",
   "metadata": {},
   "outputs": [
    {
     "data": {
      "text/plain": [
       "['anagrams',\n",
       " 'anscombe',\n",
       " 'attention',\n",
       " 'brain_networks',\n",
       " 'car_crashes',\n",
       " 'diamonds',\n",
       " 'dots',\n",
       " 'dowjones',\n",
       " 'exercise',\n",
       " 'flights',\n",
       " 'fmri',\n",
       " 'geyser',\n",
       " 'glue',\n",
       " 'healthexp',\n",
       " 'iris',\n",
       " 'mpg',\n",
       " 'penguins',\n",
       " 'planets',\n",
       " 'seaice',\n",
       " 'taxis',\n",
       " 'tips',\n",
       " 'titanic']"
      ]
     },
     "execution_count": 3,
     "metadata": {},
     "output_type": "execute_result"
    }
   ],
   "source": [
    "sns.get_dataset_names()"
   ]
  },
  {
   "cell_type": "code",
   "execution_count": 7,
   "id": "1f411a78",
   "metadata": {},
   "outputs": [],
   "source": [
    "df = sns.load_dataset('planets')"
   ]
  },
  {
   "cell_type": "code",
   "execution_count": 8,
   "id": "eeece7b2",
   "metadata": {},
   "outputs": [
    {
     "data": {
      "text/html": [
       "<div>\n",
       "<style scoped>\n",
       "    .dataframe tbody tr th:only-of-type {\n",
       "        vertical-align: middle;\n",
       "    }\n",
       "\n",
       "    .dataframe tbody tr th {\n",
       "        vertical-align: top;\n",
       "    }\n",
       "\n",
       "    .dataframe thead th {\n",
       "        text-align: right;\n",
       "    }\n",
       "</style>\n",
       "<table border=\"1\" class=\"dataframe\">\n",
       "  <thead>\n",
       "    <tr style=\"text-align: right;\">\n",
       "      <th></th>\n",
       "      <th>method</th>\n",
       "      <th>number</th>\n",
       "      <th>orbital_period</th>\n",
       "      <th>mass</th>\n",
       "      <th>distance</th>\n",
       "      <th>year</th>\n",
       "    </tr>\n",
       "  </thead>\n",
       "  <tbody>\n",
       "    <tr>\n",
       "      <th>0</th>\n",
       "      <td>Radial Velocity</td>\n",
       "      <td>1</td>\n",
       "      <td>269.300</td>\n",
       "      <td>7.10</td>\n",
       "      <td>77.40</td>\n",
       "      <td>2006</td>\n",
       "    </tr>\n",
       "    <tr>\n",
       "      <th>1</th>\n",
       "      <td>Radial Velocity</td>\n",
       "      <td>1</td>\n",
       "      <td>874.774</td>\n",
       "      <td>2.21</td>\n",
       "      <td>56.95</td>\n",
       "      <td>2008</td>\n",
       "    </tr>\n",
       "    <tr>\n",
       "      <th>2</th>\n",
       "      <td>Radial Velocity</td>\n",
       "      <td>1</td>\n",
       "      <td>763.000</td>\n",
       "      <td>2.60</td>\n",
       "      <td>19.84</td>\n",
       "      <td>2011</td>\n",
       "    </tr>\n",
       "    <tr>\n",
       "      <th>3</th>\n",
       "      <td>Radial Velocity</td>\n",
       "      <td>1</td>\n",
       "      <td>326.030</td>\n",
       "      <td>19.40</td>\n",
       "      <td>110.62</td>\n",
       "      <td>2007</td>\n",
       "    </tr>\n",
       "    <tr>\n",
       "      <th>4</th>\n",
       "      <td>Radial Velocity</td>\n",
       "      <td>1</td>\n",
       "      <td>516.220</td>\n",
       "      <td>10.50</td>\n",
       "      <td>119.47</td>\n",
       "      <td>2009</td>\n",
       "    </tr>\n",
       "  </tbody>\n",
       "</table>\n",
       "</div>"
      ],
      "text/plain": [
       "            method  number  orbital_period   mass  distance  year\n",
       "0  Radial Velocity       1         269.300   7.10     77.40  2006\n",
       "1  Radial Velocity       1         874.774   2.21     56.95  2008\n",
       "2  Radial Velocity       1         763.000   2.60     19.84  2011\n",
       "3  Radial Velocity       1         326.030  19.40    110.62  2007\n",
       "4  Radial Velocity       1         516.220  10.50    119.47  2009"
      ]
     },
     "execution_count": 8,
     "metadata": {},
     "output_type": "execute_result"
    }
   ],
   "source": [
    "df.head()"
   ]
  },
  {
   "cell_type": "code",
   "execution_count": 9,
   "id": "5f53858d",
   "metadata": {},
   "outputs": [
    {
     "name": "stdout",
     "output_type": "stream",
     "text": [
      "<class 'pandas.core.frame.DataFrame'>\n",
      "RangeIndex: 1035 entries, 0 to 1034\n",
      "Data columns (total 6 columns):\n",
      " #   Column          Non-Null Count  Dtype  \n",
      "---  ------          --------------  -----  \n",
      " 0   method          1035 non-null   object \n",
      " 1   number          1035 non-null   int64  \n",
      " 2   orbital_period  992 non-null    float64\n",
      " 3   mass            513 non-null    float64\n",
      " 4   distance        808 non-null    float64\n",
      " 5   year            1035 non-null   int64  \n",
      "dtypes: float64(3), int64(2), object(1)\n",
      "memory usage: 48.6+ KB\n"
     ]
    }
   ],
   "source": [
    "df.info()"
   ]
  },
  {
   "cell_type": "code",
   "execution_count": 10,
   "id": "b332e282",
   "metadata": {},
   "outputs": [
    {
     "data": {
      "text/html": [
       "<div>\n",
       "<style scoped>\n",
       "    .dataframe tbody tr th:only-of-type {\n",
       "        vertical-align: middle;\n",
       "    }\n",
       "\n",
       "    .dataframe tbody tr th {\n",
       "        vertical-align: top;\n",
       "    }\n",
       "\n",
       "    .dataframe thead th {\n",
       "        text-align: right;\n",
       "    }\n",
       "</style>\n",
       "<table border=\"1\" class=\"dataframe\">\n",
       "  <thead>\n",
       "    <tr style=\"text-align: right;\">\n",
       "      <th></th>\n",
       "      <th>number</th>\n",
       "      <th>orbital_period</th>\n",
       "      <th>mass</th>\n",
       "      <th>distance</th>\n",
       "      <th>year</th>\n",
       "    </tr>\n",
       "  </thead>\n",
       "  <tbody>\n",
       "    <tr>\n",
       "      <th>count</th>\n",
       "      <td>1035.000000</td>\n",
       "      <td>992.000000</td>\n",
       "      <td>513.000000</td>\n",
       "      <td>808.000000</td>\n",
       "      <td>1035.000000</td>\n",
       "    </tr>\n",
       "    <tr>\n",
       "      <th>mean</th>\n",
       "      <td>1.785507</td>\n",
       "      <td>2002.917596</td>\n",
       "      <td>2.638161</td>\n",
       "      <td>264.069282</td>\n",
       "      <td>2009.070531</td>\n",
       "    </tr>\n",
       "    <tr>\n",
       "      <th>std</th>\n",
       "      <td>1.240976</td>\n",
       "      <td>26014.728304</td>\n",
       "      <td>3.818617</td>\n",
       "      <td>733.116493</td>\n",
       "      <td>3.972567</td>\n",
       "    </tr>\n",
       "    <tr>\n",
       "      <th>min</th>\n",
       "      <td>1.000000</td>\n",
       "      <td>0.090706</td>\n",
       "      <td>0.003600</td>\n",
       "      <td>1.350000</td>\n",
       "      <td>1989.000000</td>\n",
       "    </tr>\n",
       "    <tr>\n",
       "      <th>25%</th>\n",
       "      <td>1.000000</td>\n",
       "      <td>5.442540</td>\n",
       "      <td>0.229000</td>\n",
       "      <td>32.560000</td>\n",
       "      <td>2007.000000</td>\n",
       "    </tr>\n",
       "    <tr>\n",
       "      <th>50%</th>\n",
       "      <td>1.000000</td>\n",
       "      <td>39.979500</td>\n",
       "      <td>1.260000</td>\n",
       "      <td>55.250000</td>\n",
       "      <td>2010.000000</td>\n",
       "    </tr>\n",
       "    <tr>\n",
       "      <th>75%</th>\n",
       "      <td>2.000000</td>\n",
       "      <td>526.005000</td>\n",
       "      <td>3.040000</td>\n",
       "      <td>178.500000</td>\n",
       "      <td>2012.000000</td>\n",
       "    </tr>\n",
       "    <tr>\n",
       "      <th>max</th>\n",
       "      <td>7.000000</td>\n",
       "      <td>730000.000000</td>\n",
       "      <td>25.000000</td>\n",
       "      <td>8500.000000</td>\n",
       "      <td>2014.000000</td>\n",
       "    </tr>\n",
       "  </tbody>\n",
       "</table>\n",
       "</div>"
      ],
      "text/plain": [
       "            number  orbital_period        mass     distance         year\n",
       "count  1035.000000      992.000000  513.000000   808.000000  1035.000000\n",
       "mean      1.785507     2002.917596    2.638161   264.069282  2009.070531\n",
       "std       1.240976    26014.728304    3.818617   733.116493     3.972567\n",
       "min       1.000000        0.090706    0.003600     1.350000  1989.000000\n",
       "25%       1.000000        5.442540    0.229000    32.560000  2007.000000\n",
       "50%       1.000000       39.979500    1.260000    55.250000  2010.000000\n",
       "75%       2.000000      526.005000    3.040000   178.500000  2012.000000\n",
       "max       7.000000   730000.000000   25.000000  8500.000000  2014.000000"
      ]
     },
     "execution_count": 10,
     "metadata": {},
     "output_type": "execute_result"
    }
   ],
   "source": [
    "df.describe()"
   ]
  },
  {
   "cell_type": "code",
   "execution_count": 11,
   "id": "cee06376",
   "metadata": {},
   "outputs": [
    {
     "data": {
      "text/plain": [
       "Radial Velocity                  553\n",
       "Transit                          397\n",
       "Imaging                           38\n",
       "Microlensing                      23\n",
       "Eclipse Timing Variations          9\n",
       "Pulsar Timing                      5\n",
       "Transit Timing Variations          4\n",
       "Orbital Brightness Modulation      3\n",
       "Astrometry                         2\n",
       "Pulsation Timing Variations        1\n",
       "Name: method, dtype: int64"
      ]
     },
     "execution_count": 11,
     "metadata": {},
     "output_type": "execute_result"
    }
   ],
   "source": [
    "df['method'].value_counts()"
   ]
  },
  {
   "cell_type": "code",
   "execution_count": 12,
   "id": "a664280d",
   "metadata": {},
   "outputs": [
    {
     "data": {
      "text/plain": [
       "(1035, 6)"
      ]
     },
     "execution_count": 12,
     "metadata": {},
     "output_type": "execute_result"
    }
   ],
   "source": [
    "df.shape"
   ]
  },
  {
   "cell_type": "code",
   "execution_count": 13,
   "id": "a3532c69",
   "metadata": {},
   "outputs": [],
   "source": [
    "from sklearn.model_selection import train_test_split"
   ]
  },
  {
   "cell_type": "code",
   "execution_count": 17,
   "id": "bf0d15ee",
   "metadata": {},
   "outputs": [
    {
     "data": {
      "text/plain": [
       "1    595\n",
       "2    259\n",
       "3     88\n",
       "4     32\n",
       "5     30\n",
       "6     24\n",
       "7      7\n",
       "Name: number, dtype: int64"
      ]
     },
     "execution_count": 17,
     "metadata": {},
     "output_type": "execute_result"
    }
   ],
   "source": [
    "df['number'].value_counts()"
   ]
  },
  {
   "cell_type": "code",
   "execution_count": 15,
   "id": "6f2df348",
   "metadata": {},
   "outputs": [
    {
     "data": {
      "text/plain": [
       "Index(['method', 'number', 'orbital_period', 'mass', 'distance', 'year'], dtype='object')"
      ]
     },
     "execution_count": 15,
     "metadata": {},
     "output_type": "execute_result"
    }
   ],
   "source": [
    "df.columns"
   ]
  },
  {
   "cell_type": "code",
   "execution_count": 16,
   "id": "feb1376b",
   "metadata": {
    "scrolled": true
   },
   "outputs": [
    {
     "data": {
      "text/html": [
       "<div>\n",
       "<style scoped>\n",
       "    .dataframe tbody tr th:only-of-type {\n",
       "        vertical-align: middle;\n",
       "    }\n",
       "\n",
       "    .dataframe tbody tr th {\n",
       "        vertical-align: top;\n",
       "    }\n",
       "\n",
       "    .dataframe thead th {\n",
       "        text-align: right;\n",
       "    }\n",
       "</style>\n",
       "<table border=\"1\" class=\"dataframe\">\n",
       "  <thead>\n",
       "    <tr style=\"text-align: right;\">\n",
       "      <th></th>\n",
       "      <th>method</th>\n",
       "      <th>number</th>\n",
       "      <th>orbital_period</th>\n",
       "      <th>mass</th>\n",
       "      <th>distance</th>\n",
       "      <th>year</th>\n",
       "    </tr>\n",
       "  </thead>\n",
       "  <tbody>\n",
       "    <tr>\n",
       "      <th>0</th>\n",
       "      <td>Radial Velocity</td>\n",
       "      <td>1</td>\n",
       "      <td>269.300</td>\n",
       "      <td>7.10</td>\n",
       "      <td>77.40</td>\n",
       "      <td>2006</td>\n",
       "    </tr>\n",
       "    <tr>\n",
       "      <th>1</th>\n",
       "      <td>Radial Velocity</td>\n",
       "      <td>1</td>\n",
       "      <td>874.774</td>\n",
       "      <td>2.21</td>\n",
       "      <td>56.95</td>\n",
       "      <td>2008</td>\n",
       "    </tr>\n",
       "  </tbody>\n",
       "</table>\n",
       "</div>"
      ],
      "text/plain": [
       "            method  number  orbital_period  mass  distance  year\n",
       "0  Radial Velocity       1         269.300  7.10     77.40  2006\n",
       "1  Radial Velocity       1         874.774  2.21     56.95  2008"
      ]
     },
     "execution_count": 16,
     "metadata": {},
     "output_type": "execute_result"
    }
   ],
   "source": [
    "df.head(2)"
   ]
  },
  {
   "cell_type": "code",
   "execution_count": 25,
   "id": "5fa31842",
   "metadata": {},
   "outputs": [
    {
     "data": {
      "text/plain": [
       "method              0\n",
       "number              0\n",
       "orbital_period     43\n",
       "mass              522\n",
       "distance          227\n",
       "year                0\n",
       "dtype: int64"
      ]
     },
     "execution_count": 25,
     "metadata": {},
     "output_type": "execute_result"
    }
   ],
   "source": [
    "df.isnull().sum()"
   ]
  },
  {
   "cell_type": "code",
   "execution_count": 43,
   "id": "23957768",
   "metadata": {},
   "outputs": [],
   "source": [
    "df['orbital_period'] = df['orbital_period'].fillna(df['orbital_period'].mode()[0])"
   ]
  },
  {
   "cell_type": "code",
   "execution_count": 36,
   "id": "abc54789",
   "metadata": {
    "scrolled": true
   },
   "outputs": [
    {
     "data": {
      "text/plain": [
       "0    1.8\n",
       "1    1.9\n",
       "Name: mass, dtype: float64"
      ]
     },
     "execution_count": 36,
     "metadata": {},
     "output_type": "execute_result"
    }
   ],
   "source": [
    "df['mass'].mode()"
   ]
  },
  {
   "cell_type": "code",
   "execution_count": 53,
   "id": "13f901f2",
   "metadata": {},
   "outputs": [],
   "source": [
    "df['mass'] = df['mass'].fillna(df['mass'].mode()[0])"
   ]
  },
  {
   "cell_type": "code",
   "execution_count": 29,
   "id": "ab230e58",
   "metadata": {},
   "outputs": [
    {
     "data": {
      "text/plain": [
       "2002.9175960947584"
      ]
     },
     "execution_count": 29,
     "metadata": {},
     "output_type": "execute_result"
    }
   ],
   "source": [
    "df['orbital_period'].mean()"
   ]
  },
  {
   "cell_type": "code",
   "execution_count": 35,
   "id": "76e95767",
   "metadata": {
    "scrolled": true
   },
   "outputs": [
    {
     "data": {
      "text/plain": [
       "0     123.0\n",
       "1     428.5\n",
       "2     883.0\n",
       "3    1845.0\n",
       "Name: orbital_period, dtype: float64"
      ]
     },
     "execution_count": 35,
     "metadata": {},
     "output_type": "execute_result"
    }
   ],
   "source": [
    "df['orbital_period'].mode()"
   ]
  },
  {
   "cell_type": "code",
   "execution_count": 45,
   "id": "2dd6f167",
   "metadata": {},
   "outputs": [
    {
     "data": {
      "text/plain": [
       "0    780.0\n",
       "Name: distance, dtype: float64"
      ]
     },
     "execution_count": 45,
     "metadata": {},
     "output_type": "execute_result"
    }
   ],
   "source": [
    "df['distance'].mode()"
   ]
  },
  {
   "cell_type": "code",
   "execution_count": 54,
   "id": "28e808b1",
   "metadata": {},
   "outputs": [],
   "source": [
    "df['distance'] = df['distance'].fillna(df['distance'].mode()[0])"
   ]
  },
  {
   "cell_type": "code",
   "execution_count": 55,
   "id": "c864bb35",
   "metadata": {},
   "outputs": [
    {
     "data": {
      "text/plain": [
       "method            0\n",
       "number            0\n",
       "orbital_period    0\n",
       "mass              0\n",
       "distance          0\n",
       "year              0\n",
       "dtype: int64"
      ]
     },
     "execution_count": 55,
     "metadata": {},
     "output_type": "execute_result"
    }
   ],
   "source": [
    "df.isnull().sum()"
   ]
  },
  {
   "cell_type": "code",
   "execution_count": 96,
   "id": "75baa861",
   "metadata": {},
   "outputs": [],
   "source": [
    "x = df[['number', 'orbital_period', 'mass','year']]"
   ]
  },
  {
   "cell_type": "code",
   "execution_count": 97,
   "id": "36e7ccb3",
   "metadata": {},
   "outputs": [],
   "source": [
    "y = df['distance']"
   ]
  },
  {
   "cell_type": "code",
   "execution_count": 98,
   "id": "ec474726",
   "metadata": {},
   "outputs": [],
   "source": [
    "x_train , x_test , y_train , y_test = train_test_split(x,y,random_state=100)"
   ]
  },
  {
   "cell_type": "code",
   "execution_count": 99,
   "id": "d7f54e5a",
   "metadata": {},
   "outputs": [],
   "source": [
    "from sklearn.preprocessing import StandardScaler\n",
    "from sklearn import preprocessing\n",
    "encoder = StandardScaler()"
   ]
  },
  {
   "cell_type": "code",
   "execution_count": 100,
   "id": "c1d86928",
   "metadata": {},
   "outputs": [
    {
     "data": {
      "text/plain": [
       "array([[ 0.16807647, -0.05131912, -0.50536603,  0.21802527],\n",
       "       [ 0.16807647, -0.06634989, -0.16209276, -1.53651289],\n",
       "       [ 0.95854523,  0.01501606, -0.20591488,  0.71932189],\n",
       "       ...,\n",
       "       [-0.62239228, -0.01421281,  0.21039525, -1.03521628],\n",
       "       [ 0.16807647, -0.08118799, -0.80299125, -0.03262304],\n",
       "       [-0.62239228, -0.08132603, -0.16209276,  0.9699702 ]])"
      ]
     },
     "execution_count": 100,
     "metadata": {},
     "output_type": "execute_result"
    }
   ],
   "source": [
    "x_train = encoder.fit_transform(x_train)\n",
    "x_train"
   ]
  },
  {
   "cell_type": "code",
   "execution_count": 101,
   "id": "38637069",
   "metadata": {
    "collapsed": true
   },
   "outputs": [
    {
     "name": "stderr",
     "output_type": "stream",
     "text": [
      "C:\\Users\\hp\\anaconda3\\lib\\site-packages\\sklearn\\base.py:450: UserWarning: X does not have valid feature names, but StandardScaler was fitted with feature names\n",
      "  warnings.warn(\n"
     ]
    },
    {
     "ename": "ValueError",
     "evalue": "Expected 2D array, got 1D array instead:\narray=[7.4790e+01 2.7460e+01 4.7300e+01 5.2850e+01 6.0600e+00 3.5890e+01\n 1.3800e+02 7.8000e+02 7.8000e+02 5.8170e+01 1.2000e+03 3.3330e+01\n 8.8200e+00 1.0340e+01 7.8000e+02 7.8000e+02 7.7200e+03 7.8000e+02\n 4.5500e+02 1.5710e+01 6.7610e+01 3.0500e+01 4.7000e+02 8.7000e+02\n 7.8000e+02 3.0300e+02 4.2480e+01 3.3480e+01 5.2030e+01 1.5890e+01\n 2.1300e+01 7.8000e+02 1.8939e+02 8.5200e+00 1.4700e+02 7.7000e+02\n 5.5930e+01 1.7600e+03 7.8000e+02 4.9330e+01 7.8000e+02 5.5930e+01\n 9.7660e+01 7.8000e+02 1.3495e+02 2.1400e+02 4.4460e+01 2.9000e+02\n 3.6000e+02 2.6950e+01 1.1521e+02 4.4980e+01 3.7880e+01 2.1000e+03\n 9.7280e+01 3.8010e+01 7.8000e+02 1.9890e+01 1.6892e+02 7.8000e+02\n 2.5540e+01 5.4200e+02 7.8000e+02 1.2870e+01 1.2830e+01 7.0100e+00\n 7.8000e+02 2.5650e+01 6.3690e+01 1.2830e+01 4.4540e+01 1.5060e+02\n 2.9550e+01 4.6340e+01 6.0000e+02 1.3175e+02 7.8000e+02 1.3400e+03\n 4.3570e+01 6.0460e+01 1.7990e+01 3.8640e+01 7.8000e+02 1.4500e+02\n 7.8000e+02 6.0000e+02 2.1400e+02 1.5000e+03 3.6800e+02 5.9030e+01\n 9.1160e+01 4.4050e+01 8.4030e+01 2.9940e+01 7.8000e+02 4.0850e+01\n 3.9390e+01 3.3000e+02 7.8000e+02 5.0180e+01 4.0000e+02 1.0600e+03\n 7.8000e+02 7.8000e+02 1.1062e+02 4.6930e+01 7.8000e+02 1.6820e+01\n 2.9000e+02 3.0769e+02 6.6890e+01 5.9030e+01 7.8000e+02 1.4000e+02\n 3.6020e+01 7.8000e+02 7.8000e+02 7.8000e+02 1.4000e+03 3.4300e+02\n 3.9390e+01 5.3080e+01 2.5870e+01 7.8000e+02 2.0000e+02 2.5590e+01\n 7.8000e+02 3.7890e+01 7.8000e+02 1.7620e+01 5.3050e+01 5.2720e+01\n 1.1415e+02 4.8950e+01 7.8000e+02 3.6000e+03 4.4050e+01 4.8000e+02\n 7.8000e+02 5.8820e+01 5.4920e+01 6.8350e+01 3.8000e+02 9.1570e+01\n 1.0300e+03 8.7410e+01 5.6050e+01 7.8000e+02 1.9250e+01 7.8000e+02\n 3.7880e+01 6.0000e+02 4.7080e+01 2.2500e+03 2.6150e+01 1.9500e+03\n 7.8000e+02 1.7240e+01 1.4500e+02 8.0000e+01 7.4790e+01 4.7000e+00\n 3.6800e+02 2.6670e+01 5.9840e+01 4.5520e+01 7.0000e+01 2.1920e+01\n 7.8000e+02 4.2520e+01 7.7820e+01 2.0000e+02 4.9700e+03 1.2136e+02\n 2.9000e+02 8.0640e+01 7.8000e+02 1.5280e+01 2.0820e+01 1.1070e+03\n 7.8000e+02 9.7180e+01 3.2000e+02 1.5280e+01 6.2700e+00 7.8000e+02\n 3.6140e+01 7.8000e+02 1.6000e+02 1.4903e+02 2.9300e+02 6.1300e+02\n 8.0580e+01 5.5000e+02 1.3900e+02 9.2510e+01 2.2124e+02 8.9130e+01\n 3.4500e+02 1.7007e+02 1.3680e+02 5.1260e+01 4.9400e+00 4.3080e+01\n 2.0500e+02 3.9390e+01 9.7660e+01 7.8000e+02 2.3000e+02 1.2500e+02\n 7.8000e+02 4.5400e+00 6.8540e+01 1.1062e+02 5.7210e+01 1.9000e+02\n 6.4980e+01 2.6150e+01 3.0300e+02 5.6920e+01 1.3500e+02 7.8000e+02\n 7.8000e+02 2.8940e+01 6.0000e+02 7.8000e+02 2.3000e+02 6.7390e+01\n 3.9560e+01 5.0200e+01 1.7350e+01 1.4080e+01 1.6570e+01 2.2200e+02\n 7.8000e+02 7.8000e+02 7.8000e+02 7.8000e+02 7.8000e+02 7.8000e+02\n 3.2830e+01 7.8000e+02 3.5211e+02 7.8000e+02 7.8000e+02 2.6150e+01\n 2.3980e+01 2.2090e+01 7.8000e+02 3.9940e+01 1.3193e+02 7.8000e+02\n 6.6490e+01 7.8000e+02 7.8000e+02 1.4970e+01 3.1400e+02 9.9400e+01\n 1.7300e+02 1.3200e+02 1.1150e+01 5.2830e+01 7.8000e+02 1.1614e+02\n 1.1070e+03 8.1100e+01 2.6910e+01 1.5280e+01 2.1410e+01 7.8000e+02\n 3.9390e+01 4.4800e+01 2.3000e+03 7.8000e+02 1.3850e+02 1.7400e+02\n 3.4570e+01 7.8000e+02 7.6390e+01 5.0450e+01 4.2880e+01 2.5640e+01\n 7.8000e+02 3.9500e+02 7.8000e+02 6.0000e+01 2.6500e+01 7.8000e+02\n 7.8000e+02 3.9940e+01 6.1300e+02 3.3240e+01 4.5010e+01 7.8000e+02\n 1.7544e+02 1.3072e+02 1.8150e+01 3.2320e+01 1.2788e+02 7.8000e+02\n 1.3500e+02 7.8000e+02 1.0560e+03 1.5038e+02 5.5100e+01 4.0570e+01\n 7.8000e+02 7.8000e+02 1.9280e+01 1.5100e+01 5.2030e+01 5.6950e+01\n 7.8000e+02 7.8000e+02 1.5600e+01 4.7530e+01 5.2830e+01 4.1100e+02\n 7.8000e+02 3.0300e+02 4.0800e+03 5.2880e+01 6.3490e+01 5.2720e+01\n 2.6520e+01 1.0638e+02 3.5910e+01 2.0000e+02 4.7920e+01 6.2110e+01\n 7.8000e+02 7.8000e+02 2.9200e+01 6.7020e+01 3.4070e+01 7.8000e+02\n 1.2530e+01 7.8000e+02 7.8000e+02 3.5590e+01 4.0800e+02 1.2136e+02\n 2.6910e+01 1.0320e+01 5.0100e+02 7.8000e+02 6.9440e+01 1.3470e+01\n 4.2680e+01 1.2530e+01 7.8000e+02 1.1547e+02 1.5500e+02 1.2136e+02\n 7.8000e+02 2.0480e+01 7.8000e+02 1.3500e+02 7.8000e+02 1.4925e+02\n 6.2660e+01 7.8000e+02 6.8350e+01 2.0000e+02 2.5000e+03 3.9390e+01\n 1.2422e+02 1.7000e+02 3.3980e+01 1.3900e+02 4.6730e+01 7.8000e+02\n 7.8000e+02 4.3530e+01 4.9000e+01 2.0030e+01 2.8980e+01 1.2580e+01\n 7.8000e+02 1.9300e+02 7.7000e+02 2.2000e+02 1.2530e+01 1.6420e+02\n 3.3290e+01 8.7870e+01 9.8000e+02 7.8000e+02 7.8000e+02 1.5890e+01\n 3.7840e+01 2.8070e+01 2.1520e+01 2.8600e+01 6.2700e+00 5.0430e+01\n 2.6210e+01 1.7800e+02 2.0210e+01 1.3470e+01 2.7130e+01 2.9040e+01\n 2.7460e+01 7.8000e+02 2.6910e+01 3.2700e+01 7.8000e+02 2.5870e+01\n 4.2090e+01 1.4000e+03 4.3030e+01 2.8880e+01 7.8000e+02 2.6000e+02\n 1.6600e+02 7.8000e+02 7.8000e+02 3.2580e+01 1.1000e+02 2.1850e+01\n 9.4200e+00 4.8000e+02 1.1430e+01 4.3530e+01 7.8000e+02 3.8050e+01\n 2.0000e+03 9.4610e+01 7.8000e+02 2.6000e+02 1.1400e+03 7.8000e+02\n 3.5000e+01 1.6750e+02 1.4000e+03 7.8000e+02 6.5000e+02 8.0000e+01\n 8.8260e+01 3.6800e+02 7.8000e+02 5.6310e+01 7.8000e+02 2.5650e+01\n 3.8700e+01 9.8520e+01 5.2830e+01 3.7980e+01 5.9700e+01 7.8000e+02\n 7.8000e+02 2.1290e+01 7.3100e+01 3.5370e+01 3.2990e+01 3.9390e+01\n 1.7300e+02 3.5800e+01 7.8000e+02 7.8000e+02 7.8000e+02 3.8450e+01\n 4.3990e+01 3.8700e+01 6.8000e+00 6.5000e+02 8.1500e+01 4.5230e+01\n 8.6880e+01 1.1737e+02 5.0000e+02 8.9850e+01 4.0000e+02 7.8000e+02\n 2.1520e+01 2.5700e+01 1.4900e+01 7.8000e+02 7.8000e+02 1.3470e+01\n 7.8000e+02 2.2500e+02 9.3200e+01 7.8000e+02 5.1360e+01 7.8000e+02\n 6.2700e+00 9.0000e+01 1.2000e+03 7.8000e+02 3.3900e+02 2.6210e+01\n 7.8000e+02 7.8000e+02 1.8080e+01 3.3240e+01 2.0980e+01 1.1455e+02\n 7.8000e+02 2.5590e+01 7.8000e+02 1.0230e+01 1.8060e+01 6.8000e+02\n 1.4000e+02 1.5100e+01 3.1000e+02 2.2040e+01 7.2570e+01 2.2321e+02\n 7.8000e+02 7.8000e+02 3.8640e+01 3.4000e+02 7.8000e+02 7.8000e+02\n 1.3790e+01 7.8000e+02 4.2430e+01 1.6130e+01 3.6000e+02 6.1000e+01\n 8.0000e+02 7.8000e+02 1.2830e+01 3.6000e+01 4.3120e+01 2.4150e+01\n 5.2030e+01 2.2380e+01 2.0770e+01 4.7000e+02 4.4800e+01 7.8000e+02\n 7.8000e+02 4.7920e+01 2.8760e+01 1.2000e+02 5.0030e+01 3.8700e+02\n 2.8300e+02 4.7000e+00 2.5000e+02 3.3240e+01 2.5500e+02 7.8000e+02\n 3.0000e+02 2.4050e+01 7.8000e+02 1.2000e+03 7.8000e+02 1.2830e+01\n 1.3300e+03 7.8000e+02 5.2880e+01 3.9430e+01 7.8000e+02 6.4560e+01\n 7.8000e+02 3.2200e+02 5.7000e+02 4.0750e+01 3.8000e+01 4.2770e+01\n 2.0100e+01 6.1300e+02 7.8000e+02 7.8000e+02 2.4200e+02 2.5000e+01\n 8.5500e+02 7.8000e+02 4.5520e+01 3.8700e+01 3.2560e+01 4.7000e+00\n 7.8000e+02 6.8000e+00 4.6340e+01 1.5280e+01 7.8000e+02 2.6200e+02\n 6.6000e+01 7.8000e+02 2.0430e+01 1.2136e+02 1.2755e+02 2.1500e+02\n 2.5200e+01 3.8010e+01 1.4080e+01 3.0880e+01 1.5230e+02 7.8000e+02\n 7.8000e+02 5.2830e+01 1.4500e+02 3.2620e+01 3.7420e+01 2.8900e+01\n 7.8000e+02 7.8000e+02 7.8000e+02 7.8000e+02 5.5310e+01 7.8000e+02\n 1.8060e+01 4.6840e+01 3.0030e+02 5.2630e+01 1.9720e+01 8.0060e+01\n 1.3300e+03 1.3850e+02 3.0300e+02 1.4560e+01 1.0000e+03 1.6130e+01\n 1.1800e+03 3.8520e+01 5.5010e+01 1.3470e+01 5.4920e+01 2.4150e+01\n 7.8000e+02 4.2990e+01 1.5360e+01 7.8000e+02 6.5620e+01 2.3100e+01\n 4.2680e+01 3.3900e+02 1.0549e+02 2.8040e+01 3.7160e+01 4.7300e+01\n 7.8000e+02 5.3820e+01 7.8000e+02 3.3300e+02 7.8000e+02 3.7780e+01\n 3.1700e+02 5.2880e+01 9.0400e+00 7.8000e+02 7.8000e+02 6.0600e+00\n 2.8040e+01 4.2000e+01 8.0000e+02 5.1870e+01 5.1810e+01 7.8000e+02\n 5.2800e+01 1.0204e+02 5.2830e+01 7.8000e+02 3.8020e+01 3.6000e+02\n 7.8000e+02 7.8000e+02 4.4150e+01 1.4000e+02 7.8000e+02 7.8250e+01\n 1.4085e+02 5.6000e+02 1.2830e+01 7.8000e+02 3.7540e+01 1.1030e+01\n 7.8000e+02 2.3800e+01 7.8000e+02 7.8000e+02 2.5400e+02 1.5000e+03\n 7.8000e+02 5.6500e+01 1.3072e+02 7.8000e+02 3.6800e+02 1.8390e+01\n 7.8000e+02 3.5400e+02 2.0400e+02 7.8000e+02 2.2800e+02 1.8282e+02\n 4.3400e+01 1.0000e+02 1.3280e+02 1.6450e+03 1.3141e+02 3.9940e+01\n 9.0330e+01 6.8000e+00 9.6990e+01 2.9760e+01 5.3500e+02 1.4080e+01\n 7.7400e+01 7.8000e+02 7.8000e+02 1.4560e+01 3.5590e+01 5.3050e+01\n 7.8000e+02 7.6900e+00 1.4800e+02 1.2530e+01 1.6500e+02 7.8000e+02\n 5.0000e+01 5.5310e+01 3.1790e+01 7.8000e+02 1.5710e+01 7.8000e+02\n 8.5000e+03 4.4700e+02 5.1970e+01 3.9300e+02 7.8000e+02 7.8000e+02\n 2.1190e+03 2.5590e+01 7.8000e+02 4.0800e+03 4.1270e+01 5.3820e+01\n 7.8000e+02 5.4710e+01 3.5400e+02 9.2510e+01 1.8000e+02 1.7990e+01\n 3.3460e+01 1.0846e+02 7.8000e+02 1.9840e+01 4.7260e+01 7.8000e+02\n 9.0000e+01 7.8000e+02 1.3500e+02 4.3030e+01 1.4000e+03 5.6920e+01\n 7.0420e+01 6.8000e+00 7.8000e+02 4.9200e+02 1.9720e+01 1.1947e+02\n 4.8430e+01 6.6000e+01 7.8000e+02 8.7700e+00 7.8000e+02 1.2107e+02\n 7.8000e+02 7.8000e+02 6.1300e+02 3.8990e+01 7.8000e+02 7.5600e+03\n 5.6180e+01 7.8000e+02 3.0000e+02 7.8000e+02 3.1120e+01 5.5040e+01\n 4.2090e+01 7.8000e+02].\nReshape your data either using array.reshape(-1, 1) if your data has a single feature or array.reshape(1, -1) if it contains a single sample.",
     "output_type": "error",
     "traceback": [
      "\u001b[1;31m---------------------------------------------------------------------------\u001b[0m",
      "\u001b[1;31mValueError\u001b[0m                                Traceback (most recent call last)",
      "\u001b[1;32m~\\AppData\\Local\\Temp\\ipykernel_1796\\4276713365.py\u001b[0m in \u001b[0;36m<module>\u001b[1;34m\u001b[0m\n\u001b[1;32m----> 1\u001b[1;33m \u001b[0my_train\u001b[0m \u001b[1;33m=\u001b[0m \u001b[0mencoder\u001b[0m\u001b[1;33m.\u001b[0m\u001b[0mtransform\u001b[0m\u001b[1;33m(\u001b[0m\u001b[0my_train\u001b[0m\u001b[1;33m)\u001b[0m\u001b[1;33m\u001b[0m\u001b[1;33m\u001b[0m\u001b[0m\n\u001b[0m",
      "\u001b[1;32m~\\anaconda3\\lib\\site-packages\\sklearn\\preprocessing\\_data.py\u001b[0m in \u001b[0;36mtransform\u001b[1;34m(self, X, copy)\u001b[0m\n\u001b[0;32m    971\u001b[0m \u001b[1;33m\u001b[0m\u001b[0m\n\u001b[0;32m    972\u001b[0m         \u001b[0mcopy\u001b[0m \u001b[1;33m=\u001b[0m \u001b[0mcopy\u001b[0m \u001b[1;32mif\u001b[0m \u001b[0mcopy\u001b[0m \u001b[1;32mis\u001b[0m \u001b[1;32mnot\u001b[0m \u001b[1;32mNone\u001b[0m \u001b[1;32melse\u001b[0m \u001b[0mself\u001b[0m\u001b[1;33m.\u001b[0m\u001b[0mcopy\u001b[0m\u001b[1;33m\u001b[0m\u001b[1;33m\u001b[0m\u001b[0m\n\u001b[1;32m--> 973\u001b[1;33m         X = self._validate_data(\n\u001b[0m\u001b[0;32m    974\u001b[0m             \u001b[0mX\u001b[0m\u001b[1;33m,\u001b[0m\u001b[1;33m\u001b[0m\u001b[1;33m\u001b[0m\u001b[0m\n\u001b[0;32m    975\u001b[0m             \u001b[0mreset\u001b[0m\u001b[1;33m=\u001b[0m\u001b[1;32mFalse\u001b[0m\u001b[1;33m,\u001b[0m\u001b[1;33m\u001b[0m\u001b[1;33m\u001b[0m\u001b[0m\n",
      "\u001b[1;32m~\\anaconda3\\lib\\site-packages\\sklearn\\base.py\u001b[0m in \u001b[0;36m_validate_data\u001b[1;34m(self, X, y, reset, validate_separately, **check_params)\u001b[0m\n\u001b[0;32m    564\u001b[0m             \u001b[1;32mraise\u001b[0m \u001b[0mValueError\u001b[0m\u001b[1;33m(\u001b[0m\u001b[1;34m\"Validation should be done on X, y or both.\"\u001b[0m\u001b[1;33m)\u001b[0m\u001b[1;33m\u001b[0m\u001b[1;33m\u001b[0m\u001b[0m\n\u001b[0;32m    565\u001b[0m         \u001b[1;32melif\u001b[0m \u001b[1;32mnot\u001b[0m \u001b[0mno_val_X\u001b[0m \u001b[1;32mand\u001b[0m \u001b[0mno_val_y\u001b[0m\u001b[1;33m:\u001b[0m\u001b[1;33m\u001b[0m\u001b[1;33m\u001b[0m\u001b[0m\n\u001b[1;32m--> 566\u001b[1;33m             \u001b[0mX\u001b[0m \u001b[1;33m=\u001b[0m \u001b[0mcheck_array\u001b[0m\u001b[1;33m(\u001b[0m\u001b[0mX\u001b[0m\u001b[1;33m,\u001b[0m \u001b[1;33m**\u001b[0m\u001b[0mcheck_params\u001b[0m\u001b[1;33m)\u001b[0m\u001b[1;33m\u001b[0m\u001b[1;33m\u001b[0m\u001b[0m\n\u001b[0m\u001b[0;32m    567\u001b[0m             \u001b[0mout\u001b[0m \u001b[1;33m=\u001b[0m \u001b[0mX\u001b[0m\u001b[1;33m\u001b[0m\u001b[1;33m\u001b[0m\u001b[0m\n\u001b[0;32m    568\u001b[0m         \u001b[1;32melif\u001b[0m \u001b[0mno_val_X\u001b[0m \u001b[1;32mand\u001b[0m \u001b[1;32mnot\u001b[0m \u001b[0mno_val_y\u001b[0m\u001b[1;33m:\u001b[0m\u001b[1;33m\u001b[0m\u001b[1;33m\u001b[0m\u001b[0m\n",
      "\u001b[1;32m~\\anaconda3\\lib\\site-packages\\sklearn\\utils\\validation.py\u001b[0m in \u001b[0;36mcheck_array\u001b[1;34m(array, accept_sparse, accept_large_sparse, dtype, order, copy, force_all_finite, ensure_2d, allow_nd, ensure_min_samples, ensure_min_features, estimator)\u001b[0m\n\u001b[0;32m    767\u001b[0m             \u001b[1;31m# If input is 1D raise error\u001b[0m\u001b[1;33m\u001b[0m\u001b[1;33m\u001b[0m\u001b[0m\n\u001b[0;32m    768\u001b[0m             \u001b[1;32mif\u001b[0m \u001b[0marray\u001b[0m\u001b[1;33m.\u001b[0m\u001b[0mndim\u001b[0m \u001b[1;33m==\u001b[0m \u001b[1;36m1\u001b[0m\u001b[1;33m:\u001b[0m\u001b[1;33m\u001b[0m\u001b[1;33m\u001b[0m\u001b[0m\n\u001b[1;32m--> 769\u001b[1;33m                 raise ValueError(\n\u001b[0m\u001b[0;32m    770\u001b[0m                     \u001b[1;34m\"Expected 2D array, got 1D array instead:\\narray={}.\\n\"\u001b[0m\u001b[1;33m\u001b[0m\u001b[1;33m\u001b[0m\u001b[0m\n\u001b[0;32m    771\u001b[0m                     \u001b[1;34m\"Reshape your data either using array.reshape(-1, 1) if \"\u001b[0m\u001b[1;33m\u001b[0m\u001b[1;33m\u001b[0m\u001b[0m\n",
      "\u001b[1;31mValueError\u001b[0m: Expected 2D array, got 1D array instead:\narray=[7.4790e+01 2.7460e+01 4.7300e+01 5.2850e+01 6.0600e+00 3.5890e+01\n 1.3800e+02 7.8000e+02 7.8000e+02 5.8170e+01 1.2000e+03 3.3330e+01\n 8.8200e+00 1.0340e+01 7.8000e+02 7.8000e+02 7.7200e+03 7.8000e+02\n 4.5500e+02 1.5710e+01 6.7610e+01 3.0500e+01 4.7000e+02 8.7000e+02\n 7.8000e+02 3.0300e+02 4.2480e+01 3.3480e+01 5.2030e+01 1.5890e+01\n 2.1300e+01 7.8000e+02 1.8939e+02 8.5200e+00 1.4700e+02 7.7000e+02\n 5.5930e+01 1.7600e+03 7.8000e+02 4.9330e+01 7.8000e+02 5.5930e+01\n 9.7660e+01 7.8000e+02 1.3495e+02 2.1400e+02 4.4460e+01 2.9000e+02\n 3.6000e+02 2.6950e+01 1.1521e+02 4.4980e+01 3.7880e+01 2.1000e+03\n 9.7280e+01 3.8010e+01 7.8000e+02 1.9890e+01 1.6892e+02 7.8000e+02\n 2.5540e+01 5.4200e+02 7.8000e+02 1.2870e+01 1.2830e+01 7.0100e+00\n 7.8000e+02 2.5650e+01 6.3690e+01 1.2830e+01 4.4540e+01 1.5060e+02\n 2.9550e+01 4.6340e+01 6.0000e+02 1.3175e+02 7.8000e+02 1.3400e+03\n 4.3570e+01 6.0460e+01 1.7990e+01 3.8640e+01 7.8000e+02 1.4500e+02\n 7.8000e+02 6.0000e+02 2.1400e+02 1.5000e+03 3.6800e+02 5.9030e+01\n 9.1160e+01 4.4050e+01 8.4030e+01 2.9940e+01 7.8000e+02 4.0850e+01\n 3.9390e+01 3.3000e+02 7.8000e+02 5.0180e+01 4.0000e+02 1.0600e+03\n 7.8000e+02 7.8000e+02 1.1062e+02 4.6930e+01 7.8000e+02 1.6820e+01\n 2.9000e+02 3.0769e+02 6.6890e+01 5.9030e+01 7.8000e+02 1.4000e+02\n 3.6020e+01 7.8000e+02 7.8000e+02 7.8000e+02 1.4000e+03 3.4300e+02\n 3.9390e+01 5.3080e+01 2.5870e+01 7.8000e+02 2.0000e+02 2.5590e+01\n 7.8000e+02 3.7890e+01 7.8000e+02 1.7620e+01 5.3050e+01 5.2720e+01\n 1.1415e+02 4.8950e+01 7.8000e+02 3.6000e+03 4.4050e+01 4.8000e+02\n 7.8000e+02 5.8820e+01 5.4920e+01 6.8350e+01 3.8000e+02 9.1570e+01\n 1.0300e+03 8.7410e+01 5.6050e+01 7.8000e+02 1.9250e+01 7.8000e+02\n 3.7880e+01 6.0000e+02 4.7080e+01 2.2500e+03 2.6150e+01 1.9500e+03\n 7.8000e+02 1.7240e+01 1.4500e+02 8.0000e+01 7.4790e+01 4.7000e+00\n 3.6800e+02 2.6670e+01 5.9840e+01 4.5520e+01 7.0000e+01 2.1920e+01\n 7.8000e+02 4.2520e+01 7.7820e+01 2.0000e+02 4.9700e+03 1.2136e+02\n 2.9000e+02 8.0640e+01 7.8000e+02 1.5280e+01 2.0820e+01 1.1070e+03\n 7.8000e+02 9.7180e+01 3.2000e+02 1.5280e+01 6.2700e+00 7.8000e+02\n 3.6140e+01 7.8000e+02 1.6000e+02 1.4903e+02 2.9300e+02 6.1300e+02\n 8.0580e+01 5.5000e+02 1.3900e+02 9.2510e+01 2.2124e+02 8.9130e+01\n 3.4500e+02 1.7007e+02 1.3680e+02 5.1260e+01 4.9400e+00 4.3080e+01\n 2.0500e+02 3.9390e+01 9.7660e+01 7.8000e+02 2.3000e+02 1.2500e+02\n 7.8000e+02 4.5400e+00 6.8540e+01 1.1062e+02 5.7210e+01 1.9000e+02\n 6.4980e+01 2.6150e+01 3.0300e+02 5.6920e+01 1.3500e+02 7.8000e+02\n 7.8000e+02 2.8940e+01 6.0000e+02 7.8000e+02 2.3000e+02 6.7390e+01\n 3.9560e+01 5.0200e+01 1.7350e+01 1.4080e+01 1.6570e+01 2.2200e+02\n 7.8000e+02 7.8000e+02 7.8000e+02 7.8000e+02 7.8000e+02 7.8000e+02\n 3.2830e+01 7.8000e+02 3.5211e+02 7.8000e+02 7.8000e+02 2.6150e+01\n 2.3980e+01 2.2090e+01 7.8000e+02 3.9940e+01 1.3193e+02 7.8000e+02\n 6.6490e+01 7.8000e+02 7.8000e+02 1.4970e+01 3.1400e+02 9.9400e+01\n 1.7300e+02 1.3200e+02 1.1150e+01 5.2830e+01 7.8000e+02 1.1614e+02\n 1.1070e+03 8.1100e+01 2.6910e+01 1.5280e+01 2.1410e+01 7.8000e+02\n 3.9390e+01 4.4800e+01 2.3000e+03 7.8000e+02 1.3850e+02 1.7400e+02\n 3.4570e+01 7.8000e+02 7.6390e+01 5.0450e+01 4.2880e+01 2.5640e+01\n 7.8000e+02 3.9500e+02 7.8000e+02 6.0000e+01 2.6500e+01 7.8000e+02\n 7.8000e+02 3.9940e+01 6.1300e+02 3.3240e+01 4.5010e+01 7.8000e+02\n 1.7544e+02 1.3072e+02 1.8150e+01 3.2320e+01 1.2788e+02 7.8000e+02\n 1.3500e+02 7.8000e+02 1.0560e+03 1.5038e+02 5.5100e+01 4.0570e+01\n 7.8000e+02 7.8000e+02 1.9280e+01 1.5100e+01 5.2030e+01 5.6950e+01\n 7.8000e+02 7.8000e+02 1.5600e+01 4.7530e+01 5.2830e+01 4.1100e+02\n 7.8000e+02 3.0300e+02 4.0800e+03 5.2880e+01 6.3490e+01 5.2720e+01\n 2.6520e+01 1.0638e+02 3.5910e+01 2.0000e+02 4.7920e+01 6.2110e+01\n 7.8000e+02 7.8000e+02 2.9200e+01 6.7020e+01 3.4070e+01 7.8000e+02\n 1.2530e+01 7.8000e+02 7.8000e+02 3.5590e+01 4.0800e+02 1.2136e+02\n 2.6910e+01 1.0320e+01 5.0100e+02 7.8000e+02 6.9440e+01 1.3470e+01\n 4.2680e+01 1.2530e+01 7.8000e+02 1.1547e+02 1.5500e+02 1.2136e+02\n 7.8000e+02 2.0480e+01 7.8000e+02 1.3500e+02 7.8000e+02 1.4925e+02\n 6.2660e+01 7.8000e+02 6.8350e+01 2.0000e+02 2.5000e+03 3.9390e+01\n 1.2422e+02 1.7000e+02 3.3980e+01 1.3900e+02 4.6730e+01 7.8000e+02\n 7.8000e+02 4.3530e+01 4.9000e+01 2.0030e+01 2.8980e+01 1.2580e+01\n 7.8000e+02 1.9300e+02 7.7000e+02 2.2000e+02 1.2530e+01 1.6420e+02\n 3.3290e+01 8.7870e+01 9.8000e+02 7.8000e+02 7.8000e+02 1.5890e+01\n 3.7840e+01 2.8070e+01 2.1520e+01 2.8600e+01 6.2700e+00 5.0430e+01\n 2.6210e+01 1.7800e+02 2.0210e+01 1.3470e+01 2.7130e+01 2.9040e+01\n 2.7460e+01 7.8000e+02 2.6910e+01 3.2700e+01 7.8000e+02 2.5870e+01\n 4.2090e+01 1.4000e+03 4.3030e+01 2.8880e+01 7.8000e+02 2.6000e+02\n 1.6600e+02 7.8000e+02 7.8000e+02 3.2580e+01 1.1000e+02 2.1850e+01\n 9.4200e+00 4.8000e+02 1.1430e+01 4.3530e+01 7.8000e+02 3.8050e+01\n 2.0000e+03 9.4610e+01 7.8000e+02 2.6000e+02 1.1400e+03 7.8000e+02\n 3.5000e+01 1.6750e+02 1.4000e+03 7.8000e+02 6.5000e+02 8.0000e+01\n 8.8260e+01 3.6800e+02 7.8000e+02 5.6310e+01 7.8000e+02 2.5650e+01\n 3.8700e+01 9.8520e+01 5.2830e+01 3.7980e+01 5.9700e+01 7.8000e+02\n 7.8000e+02 2.1290e+01 7.3100e+01 3.5370e+01 3.2990e+01 3.9390e+01\n 1.7300e+02 3.5800e+01 7.8000e+02 7.8000e+02 7.8000e+02 3.8450e+01\n 4.3990e+01 3.8700e+01 6.8000e+00 6.5000e+02 8.1500e+01 4.5230e+01\n 8.6880e+01 1.1737e+02 5.0000e+02 8.9850e+01 4.0000e+02 7.8000e+02\n 2.1520e+01 2.5700e+01 1.4900e+01 7.8000e+02 7.8000e+02 1.3470e+01\n 7.8000e+02 2.2500e+02 9.3200e+01 7.8000e+02 5.1360e+01 7.8000e+02\n 6.2700e+00 9.0000e+01 1.2000e+03 7.8000e+02 3.3900e+02 2.6210e+01\n 7.8000e+02 7.8000e+02 1.8080e+01 3.3240e+01 2.0980e+01 1.1455e+02\n 7.8000e+02 2.5590e+01 7.8000e+02 1.0230e+01 1.8060e+01 6.8000e+02\n 1.4000e+02 1.5100e+01 3.1000e+02 2.2040e+01 7.2570e+01 2.2321e+02\n 7.8000e+02 7.8000e+02 3.8640e+01 3.4000e+02 7.8000e+02 7.8000e+02\n 1.3790e+01 7.8000e+02 4.2430e+01 1.6130e+01 3.6000e+02 6.1000e+01\n 8.0000e+02 7.8000e+02 1.2830e+01 3.6000e+01 4.3120e+01 2.4150e+01\n 5.2030e+01 2.2380e+01 2.0770e+01 4.7000e+02 4.4800e+01 7.8000e+02\n 7.8000e+02 4.7920e+01 2.8760e+01 1.2000e+02 5.0030e+01 3.8700e+02\n 2.8300e+02 4.7000e+00 2.5000e+02 3.3240e+01 2.5500e+02 7.8000e+02\n 3.0000e+02 2.4050e+01 7.8000e+02 1.2000e+03 7.8000e+02 1.2830e+01\n 1.3300e+03 7.8000e+02 5.2880e+01 3.9430e+01 7.8000e+02 6.4560e+01\n 7.8000e+02 3.2200e+02 5.7000e+02 4.0750e+01 3.8000e+01 4.2770e+01\n 2.0100e+01 6.1300e+02 7.8000e+02 7.8000e+02 2.4200e+02 2.5000e+01\n 8.5500e+02 7.8000e+02 4.5520e+01 3.8700e+01 3.2560e+01 4.7000e+00\n 7.8000e+02 6.8000e+00 4.6340e+01 1.5280e+01 7.8000e+02 2.6200e+02\n 6.6000e+01 7.8000e+02 2.0430e+01 1.2136e+02 1.2755e+02 2.1500e+02\n 2.5200e+01 3.8010e+01 1.4080e+01 3.0880e+01 1.5230e+02 7.8000e+02\n 7.8000e+02 5.2830e+01 1.4500e+02 3.2620e+01 3.7420e+01 2.8900e+01\n 7.8000e+02 7.8000e+02 7.8000e+02 7.8000e+02 5.5310e+01 7.8000e+02\n 1.8060e+01 4.6840e+01 3.0030e+02 5.2630e+01 1.9720e+01 8.0060e+01\n 1.3300e+03 1.3850e+02 3.0300e+02 1.4560e+01 1.0000e+03 1.6130e+01\n 1.1800e+03 3.8520e+01 5.5010e+01 1.3470e+01 5.4920e+01 2.4150e+01\n 7.8000e+02 4.2990e+01 1.5360e+01 7.8000e+02 6.5620e+01 2.3100e+01\n 4.2680e+01 3.3900e+02 1.0549e+02 2.8040e+01 3.7160e+01 4.7300e+01\n 7.8000e+02 5.3820e+01 7.8000e+02 3.3300e+02 7.8000e+02 3.7780e+01\n 3.1700e+02 5.2880e+01 9.0400e+00 7.8000e+02 7.8000e+02 6.0600e+00\n 2.8040e+01 4.2000e+01 8.0000e+02 5.1870e+01 5.1810e+01 7.8000e+02\n 5.2800e+01 1.0204e+02 5.2830e+01 7.8000e+02 3.8020e+01 3.6000e+02\n 7.8000e+02 7.8000e+02 4.4150e+01 1.4000e+02 7.8000e+02 7.8250e+01\n 1.4085e+02 5.6000e+02 1.2830e+01 7.8000e+02 3.7540e+01 1.1030e+01\n 7.8000e+02 2.3800e+01 7.8000e+02 7.8000e+02 2.5400e+02 1.5000e+03\n 7.8000e+02 5.6500e+01 1.3072e+02 7.8000e+02 3.6800e+02 1.8390e+01\n 7.8000e+02 3.5400e+02 2.0400e+02 7.8000e+02 2.2800e+02 1.8282e+02\n 4.3400e+01 1.0000e+02 1.3280e+02 1.6450e+03 1.3141e+02 3.9940e+01\n 9.0330e+01 6.8000e+00 9.6990e+01 2.9760e+01 5.3500e+02 1.4080e+01\n 7.7400e+01 7.8000e+02 7.8000e+02 1.4560e+01 3.5590e+01 5.3050e+01\n 7.8000e+02 7.6900e+00 1.4800e+02 1.2530e+01 1.6500e+02 7.8000e+02\n 5.0000e+01 5.5310e+01 3.1790e+01 7.8000e+02 1.5710e+01 7.8000e+02\n 8.5000e+03 4.4700e+02 5.1970e+01 3.9300e+02 7.8000e+02 7.8000e+02\n 2.1190e+03 2.5590e+01 7.8000e+02 4.0800e+03 4.1270e+01 5.3820e+01\n 7.8000e+02 5.4710e+01 3.5400e+02 9.2510e+01 1.8000e+02 1.7990e+01\n 3.3460e+01 1.0846e+02 7.8000e+02 1.9840e+01 4.7260e+01 7.8000e+02\n 9.0000e+01 7.8000e+02 1.3500e+02 4.3030e+01 1.4000e+03 5.6920e+01\n 7.0420e+01 6.8000e+00 7.8000e+02 4.9200e+02 1.9720e+01 1.1947e+02\n 4.8430e+01 6.6000e+01 7.8000e+02 8.7700e+00 7.8000e+02 1.2107e+02\n 7.8000e+02 7.8000e+02 6.1300e+02 3.8990e+01 7.8000e+02 7.5600e+03\n 5.6180e+01 7.8000e+02 3.0000e+02 7.8000e+02 3.1120e+01 5.5040e+01\n 4.2090e+01 7.8000e+02].\nReshape your data either using array.reshape(-1, 1) if your data has a single feature or array.reshape(1, -1) if it contains a single sample."
     ]
    }
   ],
   "source": [
    "y_train = encoder.transform(y_train)"
   ]
  },
  {
   "cell_type": "code",
   "execution_count": 102,
   "id": "d92ea579",
   "metadata": {
    "scrolled": true
   },
   "outputs": [
    {
     "data": {
      "text/plain": [
       "10      74.79\n",
       "374     27.46\n",
       "580     47.30\n",
       "228     52.85\n",
       "263      6.06\n",
       "        ...  \n",
       "802    780.00\n",
       "53      31.12\n",
       "350     55.04\n",
       "79      42.09\n",
       "792    780.00\n",
       "Name: distance, Length: 776, dtype: float64"
      ]
     },
     "execution_count": 102,
     "metadata": {},
     "output_type": "execute_result"
    }
   ],
   "source": [
    "y_train"
   ]
  },
  {
   "cell_type": "code",
   "execution_count": 103,
   "id": "3a530451",
   "metadata": {},
   "outputs": [
    {
     "data": {
      "text/plain": [
       "((776, 4), (259, 4), (776,), (259,))"
      ]
     },
     "execution_count": 103,
     "metadata": {},
     "output_type": "execute_result"
    }
   ],
   "source": [
    "x_train.shape , x_test.shape , y_train.shape , y_test.shape"
   ]
  },
  {
   "cell_type": "code",
   "execution_count": 104,
   "id": "050c7557",
   "metadata": {},
   "outputs": [],
   "source": [
    "from sklearn.linear_model import LinearRegression\n",
    "\n",
    "model = LinearRegression()"
   ]
  },
  {
   "cell_type": "code",
   "execution_count": 105,
   "id": "e2cd5d33",
   "metadata": {},
   "outputs": [
    {
     "data": {
      "text/plain": [
       "LinearRegression()"
      ]
     },
     "execution_count": 105,
     "metadata": {},
     "output_type": "execute_result"
    }
   ],
   "source": [
    "model.fit(x_train,y_train)"
   ]
  },
  {
   "cell_type": "code",
   "execution_count": 111,
   "id": "7ec85171",
   "metadata": {},
   "outputs": [
    {
     "data": {
      "text/plain": [
       "-349375.3709281292"
      ]
     },
     "execution_count": 111,
     "metadata": {},
     "output_type": "execute_result"
    }
   ],
   "source": [
    "model.score(x,y)"
   ]
  },
  {
   "cell_type": "code",
   "execution_count": 107,
   "id": "25945bdf",
   "metadata": {},
   "outputs": [
    {
     "data": {
      "text/plain": [
       "378.75408505154894"
      ]
     },
     "execution_count": 107,
     "metadata": {},
     "output_type": "execute_result"
    }
   ],
   "source": [
    "model.intercept_"
   ]
  },
  {
   "cell_type": "code",
   "execution_count": 108,
   "id": "136bef0d",
   "metadata": {},
   "outputs": [
    {
     "data": {
      "text/plain": [
       "array([-23.63106756,   6.58079509,   4.6132369 , 176.09874261])"
      ]
     },
     "execution_count": 108,
     "metadata": {},
     "output_type": "execute_result"
    }
   ],
   "source": [
    "model.coef_"
   ]
  },
  {
   "cell_type": "code",
   "execution_count": 113,
   "id": "540dc87d",
   "metadata": {
    "scrolled": true
   },
   "outputs": [],
   "source": [
    "predict = model.predict(x_test)"
   ]
  },
  {
   "cell_type": "code",
   "execution_count": 115,
   "id": "e0704b15",
   "metadata": {},
   "outputs": [
    {
     "data": {
      "text/plain": [
       "<matplotlib.collections.PathCollection at 0x2005bfb8820>"
      ]
     },
     "execution_count": 115,
     "metadata": {},
     "output_type": "execute_result"
    },
    {
     "data": {
      "image/png": "[encoded data removed]",
      "text/plain": [
       "<Figure size 640x480 with 1 Axes>"
      ]
     },
     "metadata": {},
     "output_type": "display_data"
    }
   ],
   "source": [
    "plt.scatter(y_test,predict)"
   ]
  },
  {
   "cell_type": "code",
   "execution_count": 117,
   "id": "1f7df605",
   "metadata": {},
   "outputs": [
    {
     "data": {
      "text/plain": [
       "826    -354137.044007\n",
       "917    -353294.744835\n",
       "213    -356966.997848\n",
       "270    -354788.631732\n",
       "1022   -354590.047065\n",
       "            ...      \n",
       "184    -354276.881036\n",
       "103    -353190.510260\n",
       "100    -354312.778107\n",
       "615    -356137.027578\n",
       "966    -354288.590326\n",
       "Name: distance, Length: 259, dtype: float64"
      ]
     },
     "execution_count": 117,
     "metadata": {},
     "output_type": "execute_result"
    }
   ],
   "source": [
    "#error\n",
    "\n",
    "residuals = y_test - predict\n"
   ]
  },
  {
   "cell_type": "code",
   "execution_count": 121,
   "id": "76deb3ae",
   "metadata": {},
   "outputs": [
    {
     "data": {
      "image/png": "[encoded data removed]",
      "text/plain": [
       "<Figure size 500x500 with 1 Axes>"
      ]
     },
     "metadata": {},
     "output_type": "display_data"
    }
   ],
   "source": [
    "sns.displot(residuals,kind='kde')\n",
    "plt.xticks(rotation=90)\n",
    "plt.show()"
   ]
  },
  {
   "cell_type": "code",
   "execution_count": 130,
   "id": "fa316569",
   "metadata": {},
   "outputs": [
    {
     "name": "stdout",
     "output_type": "stream",
     "text": [
      "<class 'pandas.core.frame.DataFrame'>\n",
      "RangeIndex: 1035 entries, 0 to 1034\n",
      "Data columns (total 6 columns):\n",
      " #   Column          Non-Null Count  Dtype  \n",
      "---  ------          --------------  -----  \n",
      " 0   method          1035 non-null   object \n",
      " 1   number          1035 non-null   int64  \n",
      " 2   orbital_period  1035 non-null   float64\n",
      " 3   mass            1035 non-null   float64\n",
      " 4   distance        1035 non-null   float64\n",
      " 5   year            1035 non-null   int64  \n",
      "dtypes: float64(3), int64(2), object(1)\n",
      "memory usage: 48.6+ KB\n"
     ]
    }
   ],
   "source": [
    "df.info()"
   ]
  },
  {
   "cell_type": "code",
   "execution_count": 131,
   "id": "0758481d",
   "metadata": {},
   "outputs": [],
   "source": [
    "from sklearn.preprocessing import LabelEncoder\n",
    "\n",
    "labe = LabelEncoder()"
   ]
  },
  {
   "cell_type": "code",
   "execution_count": 134,
   "id": "9fb755af",
   "metadata": {},
   "outputs": [],
   "source": [
    "df_label = df.copy()"
   ]
  },
  {
   "cell_type": "code",
   "execution_count": 172,
   "id": "99919fba",
   "metadata": {},
   "outputs": [
    {
     "data": {
      "text/html": [
       "<div>\n",
       "<style scoped>\n",
       "    .dataframe tbody tr th:only-of-type {\n",
       "        vertical-align: middle;\n",
       "    }\n",
       "\n",
       "    .dataframe tbody tr th {\n",
       "        vertical-align: top;\n",
       "    }\n",
       "\n",
       "    .dataframe thead th {\n",
       "        text-align: right;\n",
       "    }\n",
       "</style>\n",
       "<table border=\"1\" class=\"dataframe\">\n",
       "  <thead>\n",
       "    <tr style=\"text-align: right;\">\n",
       "      <th></th>\n",
       "      <th>method</th>\n",
       "      <th>number</th>\n",
       "      <th>orbital_period</th>\n",
       "      <th>mass</th>\n",
       "      <th>distance</th>\n",
       "      <th>year</th>\n",
       "    </tr>\n",
       "  </thead>\n",
       "  <tbody>\n",
       "    <tr>\n",
       "      <th>0</th>\n",
       "      <td>7</td>\n",
       "      <td>0</td>\n",
       "      <td>646</td>\n",
       "      <td>328</td>\n",
       "      <td>321</td>\n",
       "      <td>14</td>\n",
       "    </tr>\n",
       "    <tr>\n",
       "      <th>1</th>\n",
       "      <td>7</td>\n",
       "      <td>0</td>\n",
       "      <td>802</td>\n",
       "      <td>244</td>\n",
       "      <td>282</td>\n",
       "      <td>16</td>\n",
       "    </tr>\n",
       "    <tr>\n",
       "      <th>2</th>\n",
       "      <td>7</td>\n",
       "      <td>0</td>\n",
       "      <td>786</td>\n",
       "      <td>258</td>\n",
       "      <td>67</td>\n",
       "      <td>19</td>\n",
       "    </tr>\n",
       "    <tr>\n",
       "      <th>3</th>\n",
       "      <td>7</td>\n",
       "      <td>0</td>\n",
       "      <td>664</td>\n",
       "      <td>376</td>\n",
       "      <td>365</td>\n",
       "      <td>15</td>\n",
       "    </tr>\n",
       "    <tr>\n",
       "      <th>4</th>\n",
       "      <td>7</td>\n",
       "      <td>0</td>\n",
       "      <td>738</td>\n",
       "      <td>354</td>\n",
       "      <td>373</td>\n",
       "      <td>17</td>\n",
       "    </tr>\n",
       "  </tbody>\n",
       "</table>\n",
       "</div>"
      ],
      "text/plain": [
       "   method  number  orbital_period  mass  distance  year\n",
       "0       7       0             646   328       321    14\n",
       "1       7       0             802   244       282    16\n",
       "2       7       0             786   258        67    19\n",
       "3       7       0             664   376       365    15\n",
       "4       7       0             738   354       373    17"
      ]
     },
     "execution_count": 172,
     "metadata": {},
     "output_type": "execute_result"
    }
   ],
   "source": [
    "df_label.head()"
   ]
  },
  {
   "cell_type": "code",
   "execution_count": 174,
   "id": "31f48260",
   "metadata": {},
   "outputs": [
    {
     "data": {
      "text/plain": [
       "511    234\n",
       "506      6\n",
       "462      6\n",
       "29       6\n",
       "7        6\n",
       "      ... \n",
       "357      1\n",
       "59       1\n",
       "171      1\n",
       "76       1\n",
       "458      1\n",
       "Name: distance, Length: 552, dtype: int64"
      ]
     },
     "execution_count": 174,
     "metadata": {},
     "output_type": "execute_result"
    }
   ],
   "source": [
    "df_label['distance'].value_counts()"
   ]
  },
  {
   "cell_type": "code",
   "execution_count": 149,
   "id": "c958259c",
   "metadata": {},
   "outputs": [],
   "source": [
    "df_label = df_label.apply(LabelEncoder().fit_transform)"
   ]
  },
  {
   "cell_type": "code",
   "execution_count": 150,
   "id": "ef378aed",
   "metadata": {},
   "outputs": [
    {
     "data": {
      "text/plain": [
       "Index(['method', 'number', 'orbital_period', 'mass', 'distance', 'year'], dtype='object')"
      ]
     },
     "execution_count": 150,
     "metadata": {},
     "output_type": "execute_result"
    }
   ],
   "source": [
    "df_label.columns"
   ]
  },
  {
   "cell_type": "code",
   "execution_count": 151,
   "id": "5f96cf7f",
   "metadata": {},
   "outputs": [],
   "source": [
    "X = df_label[['method', 'number', 'orbital_period', 'mass','year']]"
   ]
  },
  {
   "cell_type": "code",
   "execution_count": 153,
   "id": "a2cf2edf",
   "metadata": {},
   "outputs": [],
   "source": [
    "Y = df_label['distance']"
   ]
  },
  {
   "cell_type": "code",
   "execution_count": 154,
   "id": "e0273019",
   "metadata": {},
   "outputs": [],
   "source": [
    "X_train , X_test , Y_train , Y_test = train_test_split(X,Y,random_state=100)"
   ]
  },
  {
   "cell_type": "code",
   "execution_count": 155,
   "id": "4b2e0114",
   "metadata": {},
   "outputs": [
    {
     "data": {
      "text/plain": [
       "((776, 5), (259, 5), (776,), (259,))"
      ]
     },
     "execution_count": 155,
     "metadata": {},
     "output_type": "execute_result"
    }
   ],
   "source": [
    "X_train.shape , X_test.shape , Y_train.shape , Y_test.shape"
   ]
  },
  {
   "cell_type": "code",
   "execution_count": 152,
   "id": "bd9c7d2a",
   "metadata": {},
   "outputs": [
    {
     "data": {
      "text/html": [
       "<div>\n",
       "<style scoped>\n",
       "    .dataframe tbody tr th:only-of-type {\n",
       "        vertical-align: middle;\n",
       "    }\n",
       "\n",
       "    .dataframe tbody tr th {\n",
       "        vertical-align: top;\n",
       "    }\n",
       "\n",
       "    .dataframe thead th {\n",
       "        text-align: right;\n",
       "    }\n",
       "</style>\n",
       "<table border=\"1\" class=\"dataframe\">\n",
       "  <thead>\n",
       "    <tr style=\"text-align: right;\">\n",
       "      <th></th>\n",
       "      <th>method</th>\n",
       "      <th>number</th>\n",
       "      <th>orbital_period</th>\n",
       "      <th>mass</th>\n",
       "      <th>year</th>\n",
       "    </tr>\n",
       "  </thead>\n",
       "  <tbody>\n",
       "    <tr>\n",
       "      <th>0</th>\n",
       "      <td>7</td>\n",
       "      <td>0</td>\n",
       "      <td>646</td>\n",
       "      <td>328</td>\n",
       "      <td>14</td>\n",
       "    </tr>\n",
       "    <tr>\n",
       "      <th>1</th>\n",
       "      <td>7</td>\n",
       "      <td>0</td>\n",
       "      <td>802</td>\n",
       "      <td>244</td>\n",
       "      <td>16</td>\n",
       "    </tr>\n",
       "    <tr>\n",
       "      <th>2</th>\n",
       "      <td>7</td>\n",
       "      <td>0</td>\n",
       "      <td>786</td>\n",
       "      <td>258</td>\n",
       "      <td>19</td>\n",
       "    </tr>\n",
       "    <tr>\n",
       "      <th>3</th>\n",
       "      <td>7</td>\n",
       "      <td>0</td>\n",
       "      <td>664</td>\n",
       "      <td>376</td>\n",
       "      <td>15</td>\n",
       "    </tr>\n",
       "    <tr>\n",
       "      <th>4</th>\n",
       "      <td>7</td>\n",
       "      <td>0</td>\n",
       "      <td>738</td>\n",
       "      <td>354</td>\n",
       "      <td>17</td>\n",
       "    </tr>\n",
       "    <tr>\n",
       "      <th>...</th>\n",
       "      <td>...</td>\n",
       "      <td>...</td>\n",
       "      <td>...</td>\n",
       "      <td>...</td>\n",
       "      <td>...</td>\n",
       "    </tr>\n",
       "    <tr>\n",
       "      <th>1030</th>\n",
       "      <td>8</td>\n",
       "      <td>0</td>\n",
       "      <td>183</td>\n",
       "      <td>224</td>\n",
       "      <td>14</td>\n",
       "    </tr>\n",
       "    <tr>\n",
       "      <th>1031</th>\n",
       "      <td>8</td>\n",
       "      <td>0</td>\n",
       "      <td>79</td>\n",
       "      <td>224</td>\n",
       "      <td>15</td>\n",
       "    </tr>\n",
       "    <tr>\n",
       "      <th>1032</th>\n",
       "      <td>8</td>\n",
       "      <td>0</td>\n",
       "      <td>123</td>\n",
       "      <td>224</td>\n",
       "      <td>15</td>\n",
       "    </tr>\n",
       "    <tr>\n",
       "      <th>1033</th>\n",
       "      <td>8</td>\n",
       "      <td>0</td>\n",
       "      <td>197</td>\n",
       "      <td>224</td>\n",
       "      <td>16</td>\n",
       "    </tr>\n",
       "    <tr>\n",
       "      <th>1034</th>\n",
       "      <td>8</td>\n",
       "      <td>0</td>\n",
       "      <td>200</td>\n",
       "      <td>224</td>\n",
       "      <td>16</td>\n",
       "    </tr>\n",
       "  </tbody>\n",
       "</table>\n",
       "<p>1035 rows × 5 columns</p>\n",
       "</div>"
      ],
      "text/plain": [
       "      method  number  orbital_period  mass  year\n",
       "0          7       0             646   328    14\n",
       "1          7       0             802   244    16\n",
       "2          7       0             786   258    19\n",
       "3          7       0             664   376    15\n",
       "4          7       0             738   354    17\n",
       "...      ...     ...             ...   ...   ...\n",
       "1030       8       0             183   224    14\n",
       "1031       8       0              79   224    15\n",
       "1032       8       0             123   224    15\n",
       "1033       8       0             197   224    16\n",
       "1034       8       0             200   224    16\n",
       "\n",
       "[1035 rows x 5 columns]"
      ]
     },
     "execution_count": 152,
     "metadata": {},
     "output_type": "execute_result"
    }
   ],
   "source": [
    "X"
   ]
  },
  {
   "cell_type": "code",
   "execution_count": 156,
   "id": "c9d1a1cf",
   "metadata": {},
   "outputs": [],
   "source": [
    "from sklearn.linear_model import LogisticRegression\n",
    "lr = LogisticRegression()"
   ]
  },
  {
   "cell_type": "code",
   "execution_count": 157,
   "id": "fba2016a",
   "metadata": {},
   "outputs": [
    {
     "data": {
      "text/plain": [
       "LogisticRegression()"
      ]
     },
     "execution_count": 157,
     "metadata": {},
     "output_type": "execute_result"
    }
   ],
   "source": [
    "lr.fit(X_train,Y_train)"
   ]
  },
  {
   "cell_type": "code",
   "execution_count": 160,
   "id": "d45348b1",
   "metadata": {},
   "outputs": [
    {
     "data": {
      "text/plain": [
       "0.21739130434782608"
      ]
     },
     "execution_count": 160,
     "metadata": {},
     "output_type": "execute_result"
    }
   ],
   "source": [
    "lr.score(X,Y)"
   ]
  },
  {
   "cell_type": "code",
   "execution_count": 161,
   "id": "d09bbf99",
   "metadata": {},
   "outputs": [
    {
     "data": {
      "text/plain": [
       "array([[ 0.00518467, -0.00039321,  0.01243428, -0.03154147,  0.010173  ],\n",
       "       [ 0.0115612 ,  0.00943157,  0.01040673, -0.01264483,  0.01045837],\n",
       "       [-0.00347529, -0.00180908,  0.02337643, -0.07274104, -0.01032926],\n",
       "       ...,\n",
       "       [-0.00448281, -0.0008799 ,  0.00137125,  0.01347691,  0.00579976],\n",
       "       [-0.00447927, -0.00087912,  0.00138743,  0.01350665,  0.00459965],\n",
       "       [ 0.00215551, -0.00042337, -0.05537668,  0.05678203, -0.00047473]])"
      ]
     },
     "execution_count": 161,
     "metadata": {},
     "output_type": "execute_result"
    }
   ],
   "source": [
    "lr.coef_"
   ]
  },
  {
   "cell_type": "code",
   "execution_count": 162,
   "id": "a852c896",
   "metadata": {},
   "outputs": [
    {
     "data": {
      "text/plain": [
       "array([ 7.30609567e-04,  1.53447364e-03, -5.50868304e-04,  4.17354504e-04,\n",
       "        1.43863583e-03,  4.47146218e-04, -3.77787395e-04, -5.63581048e-04,\n",
       "        2.44801954e-04, -4.23488781e-04, -2.51726622e-04,  6.01264505e-04,\n",
       "        5.61902311e-04,  2.03717926e-04, -2.30560047e-04, -2.63680897e-04,\n",
       "        2.43255591e-04,  9.18860615e-05,  1.20806826e-05,  1.88108076e-03,\n",
       "        5.73965306e-04,  1.18776590e-03, -1.69543933e-04,  2.52058938e-04,\n",
       "       -2.82740309e-04, -8.51322843e-04,  5.07203755e-04, -1.33119866e-05,\n",
       "        5.72758506e-04, -5.65982265e-04,  1.22224035e-04,  6.35105498e-04,\n",
       "       -1.57813721e-04, -3.30192795e-04,  5.83297119e-05,  1.11946192e-03,\n",
       "       -1.39078059e-04,  7.00054938e-04, -9.31760259e-05, -3.01284734e-04,\n",
       "       -1.43610889e-04, -1.29332506e-04, -7.76202405e-04,  3.41190491e-04,\n",
       "       -4.70790247e-04,  1.40746685e-05,  2.18254254e-04, -5.36725206e-04,\n",
       "        3.78115093e-05, -2.92877581e-04,  2.93282822e-04, -5.14904773e-04,\n",
       "        7.44226435e-05, -1.22003490e-04, -1.46196508e-04, -5.96581485e-04,\n",
       "       -5.17499232e-05,  1.85366967e-04, -4.46300598e-04, -1.23135739e-04,\n",
       "        5.36589673e-04, -2.57358013e-04,  1.05809532e-03,  4.21050803e-04,\n",
       "       -3.93413208e-04,  6.63926804e-04,  1.88658847e-04, -1.46104990e-04,\n",
       "       -5.49097693e-04,  1.85121004e-04, -6.54809790e-04,  7.28296533e-04,\n",
       "        5.39833687e-04, -5.42508354e-04,  1.60028652e-04,  3.99169650e-04,\n",
       "        1.21869979e-03, -5.95062865e-04, -3.29486143e-04, -4.28513870e-04,\n",
       "        9.64809924e-04, -1.32190724e-04,  6.85976976e-04, -3.37793184e-04,\n",
       "       -3.69390987e-04, -5.44182805e-04,  4.09190159e-04, -4.91113162e-04,\n",
       "       -1.51059061e-04, -3.23039383e-05, -3.93295026e-04,  8.01903347e-05,\n",
       "        4.28444104e-04, -4.36251252e-04, -4.69066306e-04,  7.61033564e-05,\n",
       "        6.66297960e-04,  6.41712230e-04,  2.80802885e-05, -6.66186065e-04,\n",
       "       -4.26307912e-04,  3.72962815e-04,  5.66712776e-06,  1.60437908e-04,\n",
       "       -4.30034229e-04, -3.51611455e-04, -5.64488883e-04, -2.17398446e-04,\n",
       "       -4.50605986e-04, -5.01780322e-05, -6.66949065e-05, -2.58483443e-04,\n",
       "       -3.26873643e-04, -3.95110533e-04, -3.49919706e-04, -3.62096346e-04,\n",
       "       -2.21496502e-04, -4.84862879e-04,  1.08811842e-04,  2.53860653e-04,\n",
       "        4.37543009e-04, -1.14253977e-04, -3.27082446e-04, -4.79174092e-04,\n",
       "        4.07255551e-05,  7.00644122e-04,  2.76365592e-04,  1.53382051e-04,\n",
       "        1.05656912e-05, -2.17313202e-04,  2.29842709e-04, -1.00565722e-04,\n",
       "       -1.62851002e-04, -3.65463971e-04, -1.16773503e-04, -4.46147101e-04,\n",
       "       -9.58387911e-04,  1.10329302e-04, -2.62606910e-04,  1.40287046e-04,\n",
       "        3.34814801e-04,  3.21779230e-04, -3.56903193e-04, -7.14854648e-05,\n",
       "       -5.09206494e-04, -5.02326239e-04,  3.97958190e-04, -4.16326918e-04,\n",
       "        6.01135733e-04, -4.80764460e-04, -3.12719675e-04, -1.19076313e-03,\n",
       "       -5.41785735e-04, -3.85541602e-04,  1.40746685e-05,  1.42619888e-04,\n",
       "        3.65117537e-04,  7.88781622e-04,  3.59544498e-04, -4.10573753e-04,\n",
       "        1.76279348e-04, -3.47836902e-04, -6.01680592e-04, -2.27471304e-06,\n",
       "       -5.53880890e-04, -7.01141263e-04,  2.56918090e-04,  6.08337992e-04,\n",
       "        3.21210908e-05,  1.72605351e-03, -5.86727528e-04,  1.03429270e-04,\n",
       "       -3.94941275e-04, -4.16300318e-05,  3.82012219e-04, -4.37369706e-04,\n",
       "       -4.12072276e-04, -3.08458652e-04, -3.30663506e-04, -4.54249880e-04,\n",
       "       -2.73979549e-04, -6.39528408e-04, -3.69539957e-04, -4.82228272e-04,\n",
       "       -3.92801623e-04,  1.60356037e-04, -4.52923910e-04, -7.01878933e-04,\n",
       "       -4.27214104e-04,  4.11054548e-04, -5.07143709e-04, -2.78300984e-04,\n",
       "       -5.08447886e-04,  2.10865797e-04, -1.36956968e-04, -4.20159852e-05,\n",
       "       -5.74759502e-04,  5.03813053e-04, -1.54517320e-04, -5.07078152e-04,\n",
       "        2.17902633e-04, -5.04081246e-04, -1.90187237e-05, -2.31456076e-04,\n",
       "       -5.24195329e-04,  1.03818581e-03, -1.35551305e-04,  9.09910492e-04,\n",
       "       -8.96774313e-05, -2.22185602e-04,  2.65848074e-04,  1.32725093e-04,\n",
       "       -4.61097631e-04,  5.93853728e-04, -3.03184108e-04, -5.97703971e-04,\n",
       "       -8.37647854e-04, -4.51070427e-04, -4.39184608e-04, -2.70794216e-04,\n",
       "       -1.70490396e-04, -1.70379150e-04, -4.23632282e-04, -3.29310181e-04,\n",
       "       -3.91516329e-04, -4.70136357e-04,  9.66663997e-04, -2.94678007e-04,\n",
       "       -6.57809406e-04, -2.64793218e-04,  1.06213102e-04,  1.93080474e-04,\n",
       "        7.46278903e-04, -3.99040261e-04,  1.73590238e-04, -1.28275519e-04,\n",
       "       -4.74759031e-05, -4.49655007e-04, -9.10336317e-05,  2.83436130e-04,\n",
       "        4.35370463e-04, -5.73191076e-04, -3.60303658e-04,  1.44927099e-04,\n",
       "        2.17906353e-04, -4.08333672e-04,  3.02104393e-04, -5.18657636e-04,\n",
       "       -1.50873701e-04, -4.04078415e-04, -3.83983340e-04, -3.96040309e-04,\n",
       "        1.35974502e-04,  1.87175953e-04, -1.41497462e-04, -5.10489859e-04,\n",
       "       -5.37644638e-04, -2.17012576e-04, -2.47574047e-04, -3.75109054e-04,\n",
       "       -1.66163027e-04,  1.43260491e-04,  2.19797879e-04, -3.61695093e-04,\n",
       "       -1.84737514e-04, -6.49450336e-05,  8.08319603e-04, -2.43361705e-04,\n",
       "       -2.68352272e-05,  3.73270092e-04, -2.29685086e-04, -6.41784391e-04,\n",
       "       -1.00966819e-04, -3.44029609e-04, -4.35394294e-04,  1.72110295e-04,\n",
       "       -4.02524353e-05,  3.05715145e-04,  1.05656912e-05, -8.83106542e-04,\n",
       "        3.78422924e-06, -1.49838509e-04, -4.08034239e-04, -4.14978809e-04,\n",
       "       -2.82495359e-04, -8.76267443e-04, -3.84590686e-04, -5.37675130e-04,\n",
       "       -2.45743527e-04, -4.15430188e-04,  2.50822197e-04, -1.82783551e-04,\n",
       "        5.49175219e-05,  1.46029822e-04, -5.97984538e-04, -1.91046041e-04,\n",
       "       -1.64608160e-04, -7.38849535e-05, -3.04492913e-04,  2.46577949e-04,\n",
       "       -1.17935167e-04, -5.12327582e-04,  1.05656912e-05,  4.06968540e-04,\n",
       "       -1.16494326e-03,  1.40807590e-04,  1.46393365e-04, -2.14717222e-05,\n",
       "       -2.96969657e-04, -8.00634257e-04, -1.47817249e-04, -1.35168657e-04,\n",
       "        1.20806826e-05,  1.45749470e-04, -7.40025869e-05, -1.49797018e-04,\n",
       "        7.10834159e-04, -6.12391400e-05,  1.86090893e-04, -4.88910073e-04,\n",
       "        2.37506339e-04,  3.65359063e-04, -6.03819195e-06,  2.45652858e-04,\n",
       "        2.21063182e-04,  2.02928926e-04, -1.60242852e-04, -4.65900165e-04,\n",
       "       -1.52995252e-04, -3.93299719e-04,  1.80271821e-04,  1.39599433e-04,\n",
       "        1.38301628e-04, -3.00059575e-04,  1.35789397e-05,  1.42221137e-04,\n",
       "       -2.26623041e-04, -1.24210471e-04,  1.92941933e-04, -2.41105666e-04,\n",
       "        1.76371873e-04,  1.68263155e-04,  5.28694951e-05,  2.86018345e-04,\n",
       "        1.76000224e-04, -2.31248583e-04, -5.34055649e-04, -7.63449041e-05,\n",
       "        1.90046315e-04,  2.94521214e-04,  1.76304372e-04,  1.38356100e-04,\n",
       "       -5.24916779e-04,  1.44342739e-04,  2.28791659e-04, -3.30299863e-04,\n",
       "        1.44643149e-04,  2.68847377e-04,  1.37146769e-04,  2.47568017e-04,\n",
       "        1.56345837e-04,  1.39146305e-04,  1.95573602e-04,  1.41673402e-04,\n",
       "        1.37118659e-04,  1.50774360e-04,  2.46120321e-04,  2.19859387e-04,\n",
       "        3.13291479e-04,  1.42553606e-04,  1.50956166e-04, -5.61430697e-04,\n",
       "        2.43009474e-04, -3.88776926e-04,  2.11680269e-04,  1.76613950e-04,\n",
       "        2.44773283e-04,  2.18176770e-04,  1.97060133e-04,  1.37221877e-04,\n",
       "        2.08551082e-04,  2.15255069e-04,  2.15399778e-04,  1.52991070e-04,\n",
       "        1.82963022e-04, -5.25395834e-04, -4.45471993e-05,  2.76082822e-04,\n",
       "        4.86906889e-04,  1.45149383e-04,  1.56099863e-04,  2.48444859e-04,\n",
       "        1.62333054e-04,  1.59306366e-04,  2.05464482e-04,  1.90885524e-04,\n",
       "        1.37201450e-04,  1.87076149e-04,  1.59056348e-04,  1.57043641e-04,\n",
       "        1.54967200e-04, -5.31282753e-04,  1.37343937e-04,  1.51438254e-04,\n",
       "        1.60312744e-04,  1.65515927e-04,  1.80664503e-04,  1.51270773e-04,\n",
       "        2.65081657e-04,  4.95029309e-04,  2.27486098e-04,  1.40918901e-04,\n",
       "        1.62877264e-04,  9.88363532e-03,  1.77711653e-04,  6.35656522e-05,\n",
       "        2.24495786e-04,  1.45147960e-04, -4.22238053e-06,  1.43228923e-04,\n",
       "        2.28912937e-04,  1.43775639e-04,  2.18020969e-04,  1.47415281e-04,\n",
       "        2.56953076e-04,  2.66823108e-04,  1.66759625e-04,  2.37348346e-04,\n",
       "        4.93802426e-04,  1.11622823e-04,  9.92217965e-07,  1.03520410e-05,\n",
       "        1.77845894e-04,  1.47992894e-04,  9.45725866e-05,  1.49794791e-04,\n",
       "        1.62882557e-04,  1.08595824e-05,  2.34780312e-04,  1.03520410e-05,\n",
       "        1.22086517e-04,  1.03520410e-05,  1.03520410e-05,  1.08595824e-05,\n",
       "        2.30051964e-04])"
      ]
     },
     "execution_count": 162,
     "metadata": {},
     "output_type": "execute_result"
    }
   ],
   "source": [
    "lr.intercept_"
   ]
  },
  {
   "cell_type": "code",
   "execution_count": 166,
   "id": "b2aac4aa",
   "metadata": {},
   "outputs": [],
   "source": [
    "PREDICT = lr.predict(X_test)"
   ]
  },
  {
   "cell_type": "code",
   "execution_count": 171,
   "id": "84162b21",
   "metadata": {},
   "outputs": [
    {
     "data": {
      "text/plain": [
       "826       0\n",
       "917       0\n",
       "213    -231\n",
       "270     -56\n",
       "1022   -163\n",
       "       ... \n",
       "184     -60\n",
       "103      13\n",
       "100     -17\n",
       "615    -179\n",
       "966    -176\n",
       "Name: distance, Length: 259, dtype: int64"
      ]
     },
     "execution_count": 171,
     "metadata": {},
     "output_type": "execute_result"
    }
   ],
   "source": [
    "#Residual\n",
    "\n",
    "error_ = Y_test - PREDICT\n",
    "\n",
    "error_"
   ]
  },
  {
   "cell_type": "code",
   "execution_count": 170,
   "id": "ac106f8b",
   "metadata": {},
   "outputs": [
    {
     "data": {
      "text/plain": [
       "<matplotlib.collections.PathCollection at 0x2005be89ee0>"
      ]
     },
     "execution_count": 170,
     "metadata": {},
     "output_type": "execute_result"
    },
    {
     "data": {
      "image/png": "[encoded data removed]",
      "text/plain": [
       "<Figure size 640x480 with 1 Axes>"
      ]
     },
     "metadata": {},
     "output_type": "display_data"
    }
   ],
   "source": [
    "plt.scatter(Y_test, PREDICT)"
   ]
  }
 ],
 "metadata": {
  "kernelspec": {
   "display_name": "Python 3 (ipykernel)",
   "language": "python",
   "name": "python3"
  },
  "language_info": {
   "codemirror_mode": {
    "name": "ipython",
    "version": 3
   },
   "file_extension": ".py",
   "mimetype": "text/x-python",
   "name": "python",
   "nbconvert_exporter": "python",
   "pygments_lexer": "ipython3",
   "version": "3.9.13"
  }
 },
 "nbformat": 4,
 "nbformat_minor": 5
}
